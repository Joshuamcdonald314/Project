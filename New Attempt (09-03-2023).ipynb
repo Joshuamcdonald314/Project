{
 "cells": [
  {
   "cell_type": "code",
   "execution_count": 2,
   "id": "393e9752-05a4-4b8f-8b9d-dfa2ce8e36c5",
   "metadata": {
    "tags": []
   },
   "outputs": [
    {
     "name": "stdout",
     "output_type": "stream",
     "text": [
      "Collecting findiff\n",
      "  Downloading findiff-0.9.2-py3-none-any.whl (30 kB)\n",
      "Requirement already satisfied: scipy in /Users/416653/Library/jupyterlab-desktop/jlab_server/lib/python3.8/site-packages (from findiff) (1.10.0)\n",
      "Requirement already satisfied: numpy in /Users/416653/Library/jupyterlab-desktop/jlab_server/lib/python3.8/site-packages (from findiff) (1.24.2)\n",
      "Collecting sympy\n",
      "  Downloading sympy-1.11.1-py3-none-any.whl (6.5 MB)\n",
      "\u001b[2K     \u001b[90m━━━━━━━━━━━━━━━━━━━━━━━━━━━━━━━━━━━━━━━━\u001b[0m \u001b[32m6.5/6.5 MB\u001b[0m \u001b[31m6.5 MB/s\u001b[0m eta \u001b[36m0:00:00\u001b[0m00:01\u001b[0m00:01\u001b[0m\n",
      "\u001b[?25hCollecting mpmath>=0.19\n",
      "  Downloading mpmath-1.3.0-py3-none-any.whl (536 kB)\n",
      "\u001b[2K     \u001b[90m━━━━━━━━━━━━━━━━━━━━━━━━━━━━━━━━━━━━━━━\u001b[0m \u001b[32m536.2/536.2 kB\u001b[0m \u001b[31m5.9 MB/s\u001b[0m eta \u001b[36m0:00:00\u001b[0m00:01\u001b[0m00:01\u001b[0m\n",
      "\u001b[?25hInstalling collected packages: mpmath, sympy, findiff\n",
      "Successfully installed findiff-0.9.2 mpmath-1.3.0 sympy-1.11.1\n",
      "Note: you may need to restart the kernel to use updated packages.\n"
     ]
    }
   ],
   "source": [
    "pip install findiff"
   ]
  },
  {
   "cell_type": "code",
   "execution_count": 1,
   "id": "096fc963-fd37-4eb5-a2e3-154ef4cce1e2",
   "metadata": {
    "tags": []
   },
   "outputs": [],
   "source": [
    "import numpy as np\n",
    "import scipy as sp\n",
    "from scipy import constants as const\n",
    "from scipy.optimize import minimize\n",
    "import matplotlib.pylab as plt\n",
    "from findiff import FinDiff, coefficients, Coefficient"
   ]
  },
  {
   "cell_type": "code",
   "execution_count": 1,
   "id": "7f1f39e4-0ca0-44d8-aefb-4798dd7c59d6",
   "metadata": {
    "tags": []
   },
   "outputs": [],
   "source": [
    "def psi(c, x,L):\n",
    "    psi = (c[0] * ((x-L/2) ** 3)) + (c[1] * ((x-L/2) ** 2)) + (c[2] * (x-L/2)) + c[3]\n",
    "    norm=np.sum(np.square(np.array(psi)))*np.abs(x[1]-x[0])\n",
    "    return np.array(psi)/np.sqrt(norm)"
   ]
  },
  {
   "cell_type": "code",
   "execution_count": 2,
   "id": "dece435d-de19-450a-b456-a0d5728cb46a",
   "metadata": {
    "tags": []
   },
   "outputs": [
    {
     "ename": "NameError",
     "evalue": "name 'np' is not defined",
     "output_type": "error",
     "traceback": [
      "\u001b[0;31m---------------------------------------------------------------------------\u001b[0m",
      "\u001b[0;31mNameError\u001b[0m                                 Traceback (most recent call last)",
      "Cell \u001b[0;32mIn[2], line 2\u001b[0m\n\u001b[1;32m      1\u001b[0m c \u001b[38;5;241m=\u001b[39m [\u001b[38;5;241m0\u001b[39m, \u001b[38;5;241m-\u001b[39m\u001b[38;5;241m1\u001b[39m, \u001b[38;5;241m0\u001b[39m, \u001b[38;5;241m20\u001b[39m]\n\u001b[0;32m----> 2\u001b[0m x \u001b[38;5;241m=\u001b[39m \u001b[43mnp\u001b[49m\u001b[38;5;241m.\u001b[39mlinspace(\u001b[38;5;241m0\u001b[39m, \u001b[38;5;241m10\u001b[39m, \u001b[38;5;241m10\u001b[39m)\n\u001b[1;32m      3\u001b[0m L \u001b[38;5;241m=\u001b[39m \u001b[38;5;241m10\u001b[39m\n\u001b[1;32m      4\u001b[0m psi(c,x,L)\n",
      "\u001b[0;31mNameError\u001b[0m: name 'np' is not defined"
     ]
    }
   ],
   "source": [
    "c = [0, -1, 0, 20]\n",
    "x = np.linspace(0, 10, 10)\n",
    "L = 10\n",
    "psi(c,x,L)"
   ]
  },
  {
   "cell_type": "code",
   "execution_count": 4,
   "id": "3d324798-65f2-46c1-aeab-202648f25cfa",
   "metadata": {
    "tags": []
   },
   "outputs": [
    {
     "data": {
      "text/plain": [
       "[<matplotlib.lines.Line2D at 0x7fb01e9b5df0>]"
      ]
     },
     "execution_count": 4,
     "metadata": {},
     "output_type": "execute_result"
    },
    {
     "data": {
      "image/png": "[encoded data removed]",
      "text/plain": [
       "<Figure size 640x480 with 1 Axes>"
      ]
     },
     "metadata": {},
     "output_type": "display_data"
    }
   ],
   "source": [
    "plt.plot(psi(c,x,L))"
   ]
  },
  {
   "cell_type": "code",
   "execution_count": 5,
   "id": "687336cc-8c39-45bd-8e0f-8894a9bf8cae",
   "metadata": {
    "tags": []
   },
   "outputs": [],
   "source": [
    "def d2psi_dx2(c, x,L):\n",
    "    dx = x[1] - x[0]\n",
    "    d2_dx2 = FinDiff(0, dx, 2)\n",
    "    d2psi_dx2 = d2_dx2(psi(c, x,L))\n",
    "    return d2psi_dx2"
   ]
  },
  {
   "cell_type": "code",
   "execution_count": 6,
   "id": "9ef58a12-2cc1-427a-8d9c-8a5502a5b4be",
   "metadata": {},
   "outputs": [
    {
     "data": {
      "text/plain": [
       "array([-0.04512348, -0.04512348, -0.04512348, -0.04512348, -0.04512348,\n",
       "       -0.04512348, -0.04512348, -0.04512348, -0.04512348, -0.04512348])"
      ]
     },
     "execution_count": 6,
     "metadata": {},
     "output_type": "execute_result"
    }
   ],
   "source": [
    "d2psi_dx2(c,x,L)"
   ]
  },
  {
   "cell_type": "code",
   "execution_count": 103,
   "id": "99a8e3dc-2ea1-4259-944c-cb517cb9ccf4",
   "metadata": {
    "tags": []
   },
   "outputs": [],
   "source": [
    "def V(c, x, L):\n",
    "    V = []\n",
    "    buffer=0.2\n",
    "    for i in x:\n",
    "        if (0+buffer) < i and i < (L-buffer):\n",
    "            V.append(0)\n",
    "        else:\n",
    "                V.append(75)\n",
    "    return V"
   ]
  },
  {
   "cell_type": "code",
   "execution_count": 104,
   "id": "e8d288e5-d57b-49df-adf6-5557e156b0f6",
   "metadata": {
    "tags": []
   },
   "outputs": [
    {
     "data": {
      "text/plain": [
       "[75, 0, 0, 0, 0, 0, 0, 0, 0, 75]"
      ]
     },
     "execution_count": 104,
     "metadata": {},
     "output_type": "execute_result"
    }
   ],
   "source": [
    "V(c,x,L)"
   ]
  },
  {
   "cell_type": "code",
   "execution_count": 105,
   "id": "e389f9b2-ee07-4bfb-8fd6-29f5d89bb394",
   "metadata": {
    "tags": []
   },
   "outputs": [],
   "source": [
    "def T(c, x,L):\n",
    "    T = (- 1/2) * d2psi_dx2(c, x,L)\n",
    "    return T"
   ]
  },
  {
   "cell_type": "code",
   "execution_count": 106,
   "id": "2f5e8335-35c6-4e15-8336-0e9573904deb",
   "metadata": {
    "tags": []
   },
   "outputs": [
    {
     "data": {
      "text/plain": [
       "array([0.02256174, 0.02256174, 0.02256174, 0.02256174, 0.02256174,\n",
       "       0.02256174, 0.02256174, 0.02256174, 0.02256174, 0.02256174])"
      ]
     },
     "execution_count": 106,
     "metadata": {},
     "output_type": "execute_result"
    }
   ],
   "source": [
    "#test\n",
    "T(c,x,L)"
   ]
  },
  {
   "cell_type": "code",
   "execution_count": 107,
   "id": "ee69b168-2785-4f4d-ba56-bd87be9f93b0",
   "metadata": {
    "tags": []
   },
   "outputs": [],
   "source": [
    "def E(c,L,x):\n",
    "    mydx=np.abs(x[1]-x[0]) #compute spacing between points\n",
    "    E=np.array(psi(c, x,L))*np.array(T(c,x,L))+np.square(np.array(psi(c,x,L)))*np.array(V(c,x,L))\n",
    "    #print(E)\n",
    "    #wave function is normalised from the start\n",
    "    #psipsi=np.square(np.array(psi(c,x,L)))\n",
    "    #print(np.sum(psipsi)*mydx)\n",
    "    return((np.sum(E))*mydx) #/(mydx*np.sum(psipsi)))"
   ]
  },
  {
   "cell_type": "code",
   "execution_count": 113,
   "id": "eac8f90c-f7f7-4b5c-b41f-a52804abfcbd",
   "metadata": {
    "tags": []
   },
   "outputs": [
    {
     "data": {
      "text/plain": [
       "2.1764789551949315"
      ]
     },
     "execution_count": 113,
     "metadata": {},
     "output_type": "execute_result"
    }
   ],
   "source": [
    "E(c,L,x)"
   ]
  },
  {
   "cell_type": "code",
   "execution_count": 114,
   "id": "0a4c9e8c-3384-4812-a5b1-af5529df0d5a",
   "metadata": {
    "tags": []
   },
   "outputs": [
    {
     "data": {
      "text/plain": [
       "0.04934802200544679"
      ]
     },
     "execution_count": 114,
     "metadata": {},
     "output_type": "execute_result"
    }
   ],
   "source": [
    "np.pi**2/(2*L**2)"
   ]
  },
  {
   "cell_type": "code",
   "execution_count": 115,
   "id": "0e08a880-8b32-4ca2-8728-5feaffcce1d5",
   "metadata": {
    "tags": []
   },
   "outputs": [
    {
     "name": "stdout",
     "output_type": "stream",
     "text": [
      "Optimized coefficients: [-1.09869848e-06 -4.11385630e-01  2.65309752e-05  1.00285673e+01] 0.05434666819236958\n"
     ]
    }
   ],
   "source": [
    "def mini(c,L,pts):\n",
    "    x = np.linspace(0, L, pts)\n",
    "    return(E(c,L,x))\n",
    "\n",
    "bounds = [(-L,L), (-L, L), (-L, L), (-L**2,L**2)]\n",
    "res=minimize(mini,[1/4,1/4,1/4,10],args=(10,200),bounds=bounds)\n",
    "\n",
    "# Print the optimized coefficients\n",
    "print(\"Optimized coefficients:\", res.x, res.fun)"
   ]
  },
  {
   "cell_type": "code",
   "execution_count": 111,
   "id": "5e0ff171-a678-4750-b8c3-ddb44ae6dc75",
   "metadata": {
    "tags": []
   },
   "outputs": [],
   "source": [
    "vals=[]\n",
    "for i in range(10,1000,10):\n",
    "    res=minimize(mini,[1/4,1/4,1/4,1/4],args=(10,i),bounds=bounds)\n",
    "    vals.append(res.fun)"
   ]
  },
  {
   "cell_type": "code",
   "execution_count": 112,
   "id": "d1304fa0-6c5b-457f-8816-c2d5fe7a5e24",
   "metadata": {
    "tags": []
   },
   "outputs": [
    {
     "data": {
      "text/plain": [
       "[<matplotlib.lines.Line2D at 0x7fb01feafa30>]"
      ]
     },
     "execution_count": 112,
     "metadata": {},
     "output_type": "execute_result"
    },
    {
     "data": {
      "image/png": "[encoded data removed]",
      "text/plain": [
       "<Figure size 640x480 with 1 Axes>"
      ]
     },
     "metadata": {},
     "output_type": "display_data"
    }
   ],
   "source": [
    "plt.plot(range(10,1000,10),vals)"
   ]
  },
  {
   "cell_type": "code",
   "execution_count": 116,
   "id": "9bbd7452-014f-4e5a-b7c4-d499780922b7",
   "metadata": {
    "tags": []
   },
   "outputs": [
    {
     "name": "stdout",
     "output_type": "stream",
     "text": [
      "0.05482064322917474\n"
     ]
    }
   ],
   "source": [
    "from scipy.optimize import differential_evolution,dual_annealing\n",
    "\n",
    "def mini(c):\n",
    "    L = 10\n",
    "    x = np.linspace(0, 10, 500)\n",
    "    return(E(c,L,x))\n",
    "\n",
    "bounds = [(-L**2,L**2), (-L**2, L**2), (-L**2, L**2), (-L**2, L**2)]\n",
    "rnew=differential_evolution(mini,bounds,maxiter=1000, popsize=1500)\n",
    "print(rnew.fun)"
   ]
  },
  {
   "cell_type": "code",
   "execution_count": null,
   "id": "9e516cd4-0558-4193-bf0d-0028ec4b2f9b",
   "metadata": {
    "tags": []
   },
   "outputs": [],
   "source": [
    "# Print the optimized coefficients\n",
    "print(\"Optimized coefficients:\", rnew.x)"
   ]
  },
  {
   "cell_type": "code",
   "execution_count": null,
   "id": "de102c4f-6992-4406-b499-316175889562",
   "metadata": {
    "tags": []
   },
   "outputs": [],
   "source": [
    "plt.plot(psi(res.x,x,L),label='mini')\n",
    "plt.plot(psi(rnew.x,x,L),label='diffE')\n",
    "plt.legend()\n",
    "plt.show()"
   ]
  },
  {
   "cell_type": "code",
   "execution_count": null,
   "id": "b8b39030-7f33-41db-b525-2cd10ffde69a",
   "metadata": {},
   "outputs": [],
   "source": []
  }
 ],
 "metadata": {
  "kernelspec": {
   "display_name": "Python 3 (ipykernel)",
   "language": "python",
   "name": "python3"
  },
  "language_info": {
   "codemirror_mode": {
    "name": "ipython",
    "version": 3
   },
   "file_extension": ".py",
   "mimetype": "text/x-python",
   "name": "python",
   "nbconvert_exporter": "python",
   "pygments_lexer": "ipython3",
   "version": "3.11.2"
  }
 },
 "nbformat": 4,
 "nbformat_minor": 5
}
