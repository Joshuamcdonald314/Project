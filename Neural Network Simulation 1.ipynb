{
 "cells": [
  {
   "cell_type": "code",
   "execution_count": 1,
   "id": "096fc963-fd37-4eb5-a2e3-154ef4cce1e2",
   "metadata": {},
   "outputs": [],
   "source": [
    "import numpy as np\n",
    "import matplotlib.pylab as plt\n",
    "import scipy as sp\n",
    "from scipy import constants as const\n",
    "from scipy.integrate import simps\n",
    "from scipy.optimize import minimize\n",
    "from findiff import FinDiff, coefficients, Coefficient"
   ]
  },
  {
   "cell_type": "code",
   "execution_count": 2,
   "id": "f85a3469-104a-4621-a5c6-66ba46cb59a3",
   "metadata": {},
   "outputs": [],
   "source": [
    "def create_weights(n_hidden, n_neurons):\n",
    "    weights_1 = np.random.rand(1, n_neurons)\n",
    "    weights_last = np.random.rand(n_neurons, 1)\n",
    "    weights_hidden = [np.random.rand(n_neurons, n_neurons) for i in range(n_hidden - 1)]\n",
    "    weights_hidden.insert(0, weights_1)\n",
    "    weights_hidden.append(weights_last)\n",
    "    return weights_hidden\n",
    "def relu(x):\n",
    "    return np.maximum(np.zeros(x.shape), x)\n",
    "def forward(weights_hidden, x):\n",
    "    weights_hidedden = un_flatten(weights_hidden)\n",
    "    for weight_array in weights_hidden:\n",
    "        x = np.dot(x, weight_array)\n",
    "        x = relu(x)\n",
    "    return x"
   ]
  },
  {
   "cell_type": "code",
   "execution_count": 3,
   "id": "5bf7d5b7-50cc-4f40-84e4-00fce4e335ae",
   "metadata": {},
   "outputs": [],
   "source": [
    "def flatten(c):\n",
    "    c_flat = []\n",
    "    shapes = []\n",
    "    lengths = []\n",
    "    for i in c:\n",
    "        shapes.append(np.shape(i))\n",
    "        c_flat += list(i.flatten())\n",
    "        lengths.append(i.size)\n",
    "    return c_flat, shapes, lengths"
   ]
  },
  {
   "cell_type": "code",
   "execution_count": 4,
   "id": "80354691-cee3-462f-8503-401bb04dfaa7",
   "metadata": {},
   "outputs": [],
   "source": [
    "def un_flatten(c):\n",
    "    c_flat, shapes, lengths = flatten(c)\n",
    "    c_unflat = []\n",
    "    for i in range(len(shapes)):\n",
    "        c_unflat.append(np.reshape(c_flat[:lengths[i]], shapes[i]))\n",
    "        del c_flat[:lengths[i]]\n",
    "    return c_unflat"
   ]
  },
  {
   "cell_type": "code",
   "execution_count": 5,
   "id": "604282ab-76a6-4e61-9d57-bf54ae463c52",
   "metadata": {},
   "outputs": [],
   "source": [
    "def psi_n(c, x):\n",
    "    def integral(c, x):\n",
    "        integral = (forward(c, x) ** 2)\n",
    "        return integral\n",
    "    A = (simps(integral(c, x), x)) ** -0.5\n",
    "    psi_n = A * forward(c, x)\n",
    "    return psi_n"
   ]
  },
  {
   "cell_type": "code",
   "execution_count": 6,
   "id": "8867571e-45c9-45fe-aefc-e508df76726d",
   "metadata": {},
   "outputs": [],
   "source": [
    "def d2psi_n_dx2(c, x):\n",
    "    dx = x[1] - x[0]\n",
    "    d2_dx2 = FinDiff(0, dx, 2)\n",
    "    d2psi_n_dx2 = d2_dx2(psi_n(c, x))\n",
    "    return d2psi_n_dx2"
   ]
  },
  {
   "cell_type": "code",
   "execution_count": 7,
   "id": "99a8e3dc-2ea1-4259-944c-cb517cb9ccf4",
   "metadata": {},
   "outputs": [],
   "source": [
    "def V(c, x, L):\n",
    "    V = []\n",
    "    for i in x:\n",
    "        if 0 < i and i < L:\n",
    "            V.append(0)\n",
    "        else:\n",
    "            V.append(50)\n",
    "    return V"
   ]
  },
  {
   "cell_type": "code",
   "execution_count": 8,
   "id": "e389f9b2-ee07-4bfb-8fd6-29f5d89bb394",
   "metadata": {},
   "outputs": [],
   "source": [
    "# def E(c, x, L):\n",
    "#     E = []\n",
    "#     for i in x:\n",
    "#         E.append((const.hbar ** 2) / (2 * const.m_e)) * (d2psi_n_dx2(c, i) / psi_n(c, i)) + V(c, i, L)\n",
    "#     # I might need a negative above\n",
    "#     return np.array(E)"
   ]
  },
  {
   "cell_type": "code",
   "execution_count": 9,
   "id": "d9772ad7-da79-461e-ab03-24eff87b7fb0",
   "metadata": {},
   "outputs": [],
   "source": [
    "def E(c, x, L):\n",
    "    E = ((1) / (2)) * (d2psi_n_dx2(c, x) / psi_n(c, x)) + V(c, x, L)\n",
    "    # I might need a negative above\n",
    "    return E"
   ]
  },
  {
   "cell_type": "code",
   "execution_count": 10,
   "id": "ec6aa850-939b-4a79-a44b-f1129086bbac",
   "metadata": {},
   "outputs": [],
   "source": [
    "def energy_function(c_flat):\n",
    "    c = un_flatten(c_flat)\n",
    "    true_energy = ((2 * np.pi) ** 2) / (8 * L ** 2)\n",
    "    return E(c, x, L)[0] - true_energy"
   ]
  },
  {
   "cell_type": "code",
   "execution_count": 11,
   "id": "6ddf9bed-3484-4b33-8663-64c59150dd73",
   "metadata": {},
   "outputs": [],
   "source": [
    "L = 10\n",
    "x = np.linspace(1, L, 1000)\n",
    "\n",
    "true_energy = ((2 * np.pi) ** 2) / (8 * L ** 2)"
   ]
  },
  {
   "cell_type": "code",
   "execution_count": 12,
   "id": "5b2c33db-080a-4bc9-bb76-9844914989d8",
   "metadata": {},
   "outputs": [
    {
     "data": {
      "text/plain": [
       "array([1.53824685])"
      ]
     },
     "execution_count": 12,
     "metadata": {},
     "output_type": "execute_result"
    }
   ],
   "source": [
    "c = create_weights(0, 4)\n",
    "forward(c, np.array([1]))"
   ]
  },
  {
   "cell_type": "code",
   "execution_count": 13,
   "id": "0e08a880-8b32-4ca2-8728-5feaffcce1d5",
   "metadata": {},
   "outputs": [
    {
     "name": "stdout",
     "output_type": "stream",
     "text": [
      "True ground state energy: 0.04934802200544679\n",
      "Ground state energy: -6.212500322545932e-12\n",
      "Optimized coefficients: [0.68924655 0.26658875 0.43267148 0.69719326 0.87761261 0.8606838\n",
      " 0.88236691 0.46205413]\n"
     ]
    }
   ],
   "source": [
    "c = flatten(c)[0]\n",
    "\n",
    "res = minimize(energy_function, c)\n",
    "\n",
    "c = un_flatten(res.x)\n",
    "\n",
    "energy = E(c, x, L)\n",
    "\n",
    "# Print the ground state energy and corresponding coefficients\n",
    "print(\"True ground state energy:\", true_energy)\n",
    "print(\"Ground state energy:\", np.min(energy))\n",
    "print(\"Optimized coefficients:\", res.x)"
   ]
  },
  {
   "cell_type": "code",
   "execution_count": 14,
   "id": "924e2cf3-36bc-45db-bf36-7e3595974171",
   "metadata": {},
   "outputs": [
    {
     "data": {
      "text/plain": [
       "[<matplotlib.lines.Line2D at 0x1c98c9f06d0>]"
      ]
     },
     "execution_count": 14,
     "metadata": {},
     "output_type": "execute_result"
    },
    {
     "data": {
      "image/png": "[encoded data removed]",
      "text/plain": [
       "<Figure size 432x288 with 1 Axes>"
      ]
     },
     "metadata": {
      "needs_background": "light"
     },
     "output_type": "display_data"
    }
   ],
   "source": [
    "plt.plot(x, psi_n(res.x, x))"
   ]
  }
 ],
 "metadata": {
  "kernelspec": {
   "display_name": "Python 3",
   "language": "python",
   "name": "python3"
  },
  "language_info": {
   "codemirror_mode": {
    "name": "ipython",
    "version": 3
   },
   "file_extension": ".py",
   "mimetype": "text/x-python",
   "name": "python",
   "nbconvert_exporter": "python",
   "pygments_lexer": "ipython3",
   "version": "3.8.8"
  }
 },
 "nbformat": 4,
 "nbformat_minor": 5
}
