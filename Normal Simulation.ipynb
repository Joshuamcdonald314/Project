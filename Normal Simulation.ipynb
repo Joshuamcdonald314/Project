{
 "cells": [
  {
   "cell_type": "code",
   "execution_count": 1,
   "id": "096fc963-fd37-4eb5-a2e3-154ef4cce1e2",
   "metadata": {},
   "outputs": [],
   "source": [
    "import numpy as np\n",
    "import matplotlib.pylab as plt\n",
    "import scipy as sp\n",
    "from scipy import constants as const\n",
    "from scipy.integrate import simps\n",
    "from scipy.optimize import minimize\n",
    "from findiff import FinDiff, coefficients, Coefficient"
   ]
  },
  {
   "cell_type": "code",
   "execution_count": 2,
   "id": "7f1f39e4-0ca0-44d8-aefb-4798dd7c59d6",
   "metadata": {},
   "outputs": [],
   "source": [
    "def psi(c, x):\n",
    "    psi = (c[0] * (x ** 3)) + (c[1] * (x ** 2)) + (c[2] * (x)) + c[3]\n",
    "    return psi"
   ]
  },
  {
   "cell_type": "code",
   "execution_count": 3,
   "id": "604282ab-76a6-4e61-9d57-bf54ae463c52",
   "metadata": {},
   "outputs": [],
   "source": [
    "def psi_n(c, x):\n",
    "    def integral(c, x):\n",
    "        integral = (psi(c, x) ** 2)\n",
    "        return integral\n",
    "    A = (simps(integral(c, x), x)) ** -0.5\n",
    "    psi_n = A * psi(c, x)\n",
    "    return psi_n"
   ]
  },
  {
   "cell_type": "code",
   "execution_count": 4,
   "id": "8867571e-45c9-45fe-aefc-e508df76726d",
   "metadata": {},
   "outputs": [],
   "source": [
    "def d2psi_n_dx2(c, x):\n",
    "    dx = x[1] - x[0]\n",
    "    d2_dx2 = FinDiff(0, dx, 2)\n",
    "    d2psi_n_dx2 = d2_dx2(psi_n(c, x))\n",
    "    return d2psi_n_dx2"
   ]
  },
  {
   "cell_type": "code",
   "execution_count": 5,
   "id": "99a8e3dc-2ea1-4259-944c-cb517cb9ccf4",
   "metadata": {},
   "outputs": [],
   "source": [
    "def V(c, x, L):\n",
    "    V = []\n",
    "    for i in x:\n",
    "        if 0 < i and i < L:\n",
    "            V.append(0)\n",
    "        else:\n",
    "            V.append(50)\n",
    "    return V"
   ]
  },
  {
   "cell_type": "code",
   "execution_count": 6,
   "id": "e389f9b2-ee07-4bfb-8fd6-29f5d89bb394",
   "metadata": {},
   "outputs": [],
   "source": [
    "def E(c, x, L):\n",
    "    E = ((1) / (2)) * (d2psi_n_dx2(c, x) / psi_n(c, x)) + V(c, x, L)\n",
    "    # I might need a negative above\n",
    "    return E"
   ]
  },
  {
   "cell_type": "code",
   "execution_count": 7,
   "id": "ec6aa850-939b-4a79-a44b-f1129086bbac",
   "metadata": {},
   "outputs": [],
   "source": [
    "def energy_function(c):\n",
    "    true_energy = ((2 * np.pi) ** 2) / (8 * L ** 2)\n",
    "    return E(c, x, L)[0] - true_energy"
   ]
  },
  {
   "cell_type": "code",
   "execution_count": 8,
   "id": "6ddf9bed-3484-4b33-8663-64c59150dd73",
   "metadata": {},
   "outputs": [],
   "source": [
    "c = [1, 1, 1, 1]\n",
    "L = 10\n",
    "x = np.linspace(0, L, 1000)\n",
    "\n",
    "true_energy = ((2 * np.pi) ** 2) / (8 * L ** 2)"
   ]
  },
  {
   "cell_type": "code",
   "execution_count": 9,
   "id": "0e08a880-8b32-4ca2-8728-5feaffcce1d5",
   "metadata": {},
   "outputs": [
    {
     "name": "stdout",
     "output_type": "stream",
     "text": [
      "True ground state energy: 0.04934802200544679\n",
      "Ground state energy: -252.60128417907296\n",
      "Optimized coefficients: [ 1.00095116 -9.66880038  1.00281639  1.98861816]\n"
     ]
    }
   ],
   "source": [
    "res = minimize(energy_function, c)\n",
    "\n",
    "energy = E(res.x, x, L)\n",
    "\n",
    "# Print the ground state energy and corresponding coefficients\n",
    "print(\"True ground state energy:\", true_energy)\n",
    "print(\"Ground state energy:\", np.min(energy))\n",
    "print(\"Optimized coefficients:\", res.x)"
   ]
  },
  {
   "cell_type": "code",
   "execution_count": 10,
   "id": "924e2cf3-36bc-45db-bf36-7e3595974171",
   "metadata": {},
   "outputs": [
    {
     "data": {
      "text/plain": [
       "[<matplotlib.lines.Line2D at 0x1bf28835b80>]"
      ]
     },
     "execution_count": 10,
     "metadata": {},
     "output_type": "execute_result"
    },
    {
     "data": {
      "image/png": "[encoded data removed]",
      "text/plain": [
       "<Figure size 432x288 with 1 Axes>"
      ]
     },
     "metadata": {
      "needs_background": "light"
     },
     "output_type": "display_data"
    }
   ],
   "source": [
    "plt.plot(x, psi_n(res.x, x))"
   ]
  }
 ],
 "metadata": {
  "kernelspec": {
   "display_name": "Python 3",
   "language": "python",
   "name": "python3"
  },
  "language_info": {
   "codemirror_mode": {
    "name": "ipython",
    "version": 3
   },
   "file_extension": ".py",
   "mimetype": "text/x-python",
   "name": "python",
   "nbconvert_exporter": "python",
   "pygments_lexer": "ipython3",
   "version": "3.8.8"
  }
 },
 "nbformat": 4,
 "nbformat_minor": 5
}
